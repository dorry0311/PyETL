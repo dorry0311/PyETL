{
 "cells": [
  {
   "cell_type": "code",
   "execution_count": 3,
   "metadata": {},
   "outputs": [
    {
     "name": "stdout",
     "output_type": "stream",
     "text": [
      "Requirement already satisfied: jieba in c:\\users\\big data\\pycharmprojects\\pyetl\\venv\\lib\\site-packages (0.39)\n"
     ]
    }
   ],
   "source": [
    "!pip install jieba"
   ]
  },
  {
   "cell_type": "code",
   "execution_count": 4,
   "metadata": {},
   "outputs": [],
   "source": [
    "import jieba"
   ]
  },
  {
   "cell_type": "code",
   "execution_count": 8,
   "metadata": {},
   "outputs": [
    {
     "name": "stderr",
     "output_type": "stream",
     "text": [
      "Building prefix dict from the default dictionary ...\n",
      "Dumping model to file cache C:\\Users\\BIGDAT~1\\AppData\\Local\\Temp\\jieba.cache\n",
      "Loading model cost 1.049 seconds.\n",
      "Prefix dict has been built succesfully.\n"
     ]
    },
    {
     "name": "stdout",
     "output_type": "stream",
     "text": [
      "全模式 大家|好|||我|叫|小|賀|||今年|18|歲|||今天|來|中央|大|學|的|資|策|會|上|課\n",
      "精確模式 大家|好|，|我|叫|小賀|，|今年|18|歲|，|今天|來|中央|大學|的|資策|會|上|課\n",
      "搜尋引擎 大家|好|，|我|叫|小賀|，|今年|18|歲|，|今天|來|中央|大學|的|資策|會|上|課\n"
     ]
    }
   ],
   "source": [
    "a = '大家好，我叫小賀，今年18歲，今天來中央大學的資策會上課'\n",
    "s1 = jieba.cut(a,cut_all=True)\n",
    "s2 = jieba.cut(a,cut_all=False)\n",
    "s3 = jieba.cut_for_search(a)\n",
    "print('全模式','|'.join(s1))\n",
    "print('精確模式','|'.join(s2))\n",
    "print('搜尋引擎','|'.join(s3))"
   ]
  },
  {
   "cell_type": "code",
   "execution_count": 9,
   "metadata": {},
   "outputs": [
    {
     "name": "stdout",
     "output_type": "stream",
     "text": [
      "大家|好|，|我|叫|小賀|，|今年|18|歲|，|今天|來|中央|大學|的|資策|會|上|課\n"
     ]
    }
   ],
   "source": [
    "s4 = jieba.cut(a)\n",
    "print('|'.join(s4))"
   ]
  },
  {
   "cell_type": "code",
   "execution_count": null,
   "metadata": {},
   "outputs": [],
   "source": []
  }
 ],
 "metadata": {
  "kernelspec": {
   "display_name": "Python 3",
   "language": "python",
   "name": "python3"
  },
  "language_info": {
   "codemirror_mode": {
    "name": "ipython",
    "version": 3
   },
   "file_extension": ".py",
   "mimetype": "text/x-python",
   "name": "python",
   "nbconvert_exporter": "python",
   "pygments_lexer": "ipython3",
   "version": "3.7.4"
  }
 },
 "nbformat": 4,
 "nbformat_minor": 2
}
